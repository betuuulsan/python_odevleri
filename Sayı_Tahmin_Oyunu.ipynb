{
  "nbformat": 4,
  "nbformat_minor": 0,
  "metadata": {
    "colab": {
      "provenance": [],
      "authorship_tag": "ABX9TyN11uRYCF/WTpCLAd8PiouF",
      "include_colab_link": true
    },
    "kernelspec": {
      "name": "python3",
      "display_name": "Python 3"
    },
    "language_info": {
      "name": "python"
    }
  },
  "cells": [
    {
      "cell_type": "markdown",
      "metadata": {
        "id": "view-in-github",
        "colab_type": "text"
      },
      "source": [
        "<a href=\"https://colab.research.google.com/github/betuuulsan/python_-devleri/blob/main/Say%C4%B1_Tahmin_Oyunu.ipynb\" target=\"_parent\"><img src=\"https://colab.research.google.com/assets/colab-badge.svg\" alt=\"Open In Colab\"/></a>"
      ]
    },
    {
      "cell_type": "code",
      "execution_count": 10,
      "metadata": {
        "colab": {
          "base_uri": "https://localhost:8080/"
        },
        "id": "2pVSRQ3qjE-K",
        "outputId": "171773fe-e984-489a-eed4-a61cde894b07"
      },
      "outputs": [
        {
          "output_type": "stream",
          "name": "stdout",
          "text": [
            "Merhaba! Tahmin Oyununa Hoşgeldiniz.\n",
            "1 ile 100 arasında bir sayı tuttum. Tahmin etmeye başlayabilirsiniz!\n",
            "Tahmininizi girin (1-100 arası bir sayı): 96\n",
            "Daha düşük bir sayı girin.\n",
            "Tahmininizi girin (1-100 arası bir sayı): 26\n",
            "Tebrikler! 26 sayısını 2 denemede buldunuz!\n"
          ]
        }
      ],
      "source": [
        "# s_t = sayı tahmini,  t_s = tahmin sayısı,  b_s = bilgisayarın sayısı\n",
        "\n",
        "import random\n",
        "\n",
        "def s_t():\n",
        "    print(\"Merhaba! Tahmin Oyununa Hoşgeldiniz.\")\n",
        "    print(\"1 ile 100 arasında bir sayı tuttum. Tahmin etmeye başlayabilirsiniz!\")\n",
        "\n",
        "\n",
        "    b_s = random.randint(1, 100)\n",
        "    t_s = 0\n",
        "\n",
        "    while True:\n",
        "        tahmin = int(input(\"Tahmininizi girin (1-100 arası bir sayı): \"))\n",
        "        t_s += 1\n",
        "\n",
        "        if tahmin < b_s:\n",
        "            print(\"Daha yüksek bir sayı girin.\")\n",
        "        elif tahmin > b_s:\n",
        "            print(\"Daha düşük bir sayı girin.\")\n",
        "        else:\n",
        "            print(f\"Tebrikler! {b_s} sayısını {t_s} denemede buldunuz!\")\n",
        "            break\n",
        "\n",
        "if __name__ == \"__main__\":\n",
        "    s_t()\n"
      ]
    }
  ]
}