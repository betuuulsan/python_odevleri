{
  "nbformat": 4,
  "nbformat_minor": 0,
  "metadata": {
    "colab": {
      "provenance": [],
      "authorship_tag": "ABX9TyOuwBOVwDfYy9nxcFL3fHWd",
      "include_colab_link": true
    },
    "kernelspec": {
      "name": "python3",
      "display_name": "Python 3"
    },
    "language_info": {
      "name": "python"
    }
  },
  "cells": [
    {
      "cell_type": "markdown",
      "metadata": {
        "id": "view-in-github",
        "colab_type": "text"
      },
      "source": [
        "<a href=\"https://colab.research.google.com/github/betuuulsan/python_odevleri/blob/main/Asal_Sayilari_Bulma.ipynb\" target=\"_parent\"><img src=\"https://colab.research.google.com/assets/colab-badge.svg\" alt=\"Open In Colab\"/></a>"
      ]
    },
    {
      "cell_type": "code",
      "execution_count": 3,
      "metadata": {
        "colab": {
          "base_uri": "https://localhost:8080/"
        },
        "id": "568FqSFlOGJz",
        "outputId": "06c5f764-99d0-42c9-9d5e-2b61aedd2460"
      },
      "outputs": [
        {
          "output_type": "stream",
          "name": "stdout",
          "text": [
            "Bir sayı girin: 25\n",
            "25'e kadar olan asal sayılar: [2, 3, 5, 7, 11, 13, 17, 19, 23]\n"
          ]
        }
      ],
      "source": [
        "# a_s_b = asal sayı bulma\n",
        "def kontrol(sayi):\n",
        "    if sayi < 2:\n",
        "        return False\n",
        "    for i in range(2, int(sayi ** 0.5) + 1):\n",
        "        if sayi % i == 0:\n",
        "            return False\n",
        "    return True\n",
        "\n",
        "def a_s_b(sayi):\n",
        "    asal_sayilar = []\n",
        "    for num in range(2, sayi + 1):\n",
        "        if kontrol(num):\n",
        "            asal_sayilar.append(num)\n",
        "    return asal_sayilar\n",
        "\n",
        "sayi = int(input(\"Bir sayı girin: \"))\n",
        "asal_sayilar = a_s_b(sayi)\n",
        "\n",
        "print(f\"{sayi}'e kadar olan asal sayılar: {asal_sayilar}\")\n",
        "\n"
      ]
    }
  ]
}