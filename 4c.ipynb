{
  "nbformat": 4,
  "nbformat_minor": 0,
  "metadata": {
    "colab": {
      "provenance": [],
      "authorship_tag": "ABX9TyOW2RSM4WktVszCXOodhq+m",
      "include_colab_link": true
    },
    "kernelspec": {
      "name": "python3",
      "display_name": "Python 3"
    },
    "language_info": {
      "name": "python"
    }
  },
  "cells": [
    {
      "cell_type": "markdown",
      "metadata": {
        "id": "view-in-github",
        "colab_type": "text"
      },
      "source": [
        "<a href=\"https://colab.research.google.com/github/betuuulsan/python_odevleri/blob/main/4c.ipynb\" target=\"_parent\"><img src=\"https://colab.research.google.com/assets/colab-badge.svg\" alt=\"Open In Colab\"/></a>"
      ]
    },
    {
      "cell_type": "code",
      "source": [
        "def kullanici_ozellik_secimi():\n",
        "    sac_sakal_rengi = input(\"Saç ve Sakal Rengi Seçin (Kızıl, Siyah, Beyaz): \")\n",
        "    sac_tipi = input(\"Saç Tipi Seçin (Düz, Kıvırcık, Dalgalı): \")\n",
        "    sakal_uzunlugu = input(\"Sakal Uzunluğu Seçin (Uzun Sakal, Kirli Sakal, Sakalsız): \")\n",
        "    boy_uzunlugu = int(input(\"Boy Uzunluğu Belirtin (cm): \"))\n",
        "    kilo = int(input(\"Kilonuzu Belirtin (kg): \"))\n",
        "    vucut_tipi = input(\"Vücut Tipi Seçin (Zayıf, Kaslı, Kilolu): \")\n",
        "    ten_rengi = input(\"Ten Rengi Seçin (Buğday, Esmer, Beyaz, Siyah): \")\n",
        "    goz_rengi = input(\"Göz Rengi Seçin (Mor, Ela, Yeşil, Kahverengi): \")\n",
        "    sinif = input(\"Karakterin Sınıfını Belirtin (Gangster, Keko, İş Adamı, Sporcu): \")\n",
        "    return Karakter(sac_sakal_rengi, sac_tipi, sakal_uzunlugu, boy_uzunlugu, kilo, vucut_tipi, ten_rengi, goz_rengi, sinif)\n",
        "\n",
        "karakter1 = kullanici_ozellik_secimi()\n",
        "print(\"\\n\")\n",
        "karakter1.karakter_ozelliklerini_bastir()"
      ],
      "metadata": {
        "colab": {
          "base_uri": "https://localhost:8080/"
        },
        "id": "M7gSOcPOIb43",
        "outputId": "897cf3ad-a80e-4122-ef72-4ea62d68f0b8"
      },
      "execution_count": 26,
      "outputs": [
        {
          "output_type": "stream",
          "name": "stdout",
          "text": [
            "Saç ve Sakal Rengi Seçin (Kızıl, Siyah, Beyaz): Kızıl\n",
            "Saç Tipi Seçin (Düz, Kıvırcık, Dalgalı): Düz\n",
            "Sakal Uzunluğu Seçin (Uzun Sakal, Kirli Sakal, Sakalsız): Sakalsız\n",
            "Boy Uzunluğu Belirtin (cm): 160\n",
            "Kilonuzu Belirtin (kg): 55\n",
            "Vücut Tipi Seçin (Zayıf, Kaslı, Kilolu): Zayıf\n",
            "Ten Rengi Seçin (Buğday, Esmer, Beyaz, Siyah): Beyaz\n",
            "Göz Rengi Seçin (Mor, Ela, Yeşil, Kahverengi): Ela\n",
            "Karakterin Sınıfını Belirtin (Gangster, Keko, İş Adamı, Sporcu): Sporcu\n",
            "\n",
            "\n",
            "Karakter Özellikleri:\n",
            "Saç ve Sakal Rengi: Kızıl\n",
            "Saç Tipi: Düz\n",
            "Sakal Uzunluğu: Sakalsız\n",
            "Boy Uzunluğu: 160 cm\n",
            "Kilo: 55 kg\n",
            "Vücut Tipi: Zayıf\n",
            "Ten Rengi: Beyaz\n",
            "Göz Rengi: Ela\n",
            "Sınıfı: Sporcu\n"
          ]
        }
      ]
    }
  ]
}