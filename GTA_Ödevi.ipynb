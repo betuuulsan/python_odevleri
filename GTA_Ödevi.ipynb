{
  "nbformat": 4,
  "nbformat_minor": 0,
  "metadata": {
    "colab": {
      "provenance": [],
      "authorship_tag": "ABX9TyNKV/Bu37XHMqEKpTshhsfX",
      "include_colab_link": true
    },
    "kernelspec": {
      "name": "python3",
      "display_name": "Python 3"
    },
    "language_info": {
      "name": "python"
    }
  },
  "cells": [
    {
      "cell_type": "markdown",
      "metadata": {
        "id": "view-in-github",
        "colab_type": "text"
      },
      "source": [
        "<a href=\"https://colab.research.google.com/github/betuuulsan/python_odevleri/blob/main/GTA_%C3%96devi.ipynb\" target=\"_parent\"><img src=\"https://colab.research.google.com/assets/colab-badge.svg\" alt=\"Open In Colab\"/></a>"
      ]
    },
    {
      "cell_type": "markdown",
      "source": [
        "4-A\n",
        "\n",
        "Saç ve Sakal Rengi Seçenekleri: Kızıl, Siyah, Beyaz\n",
        "\n",
        "Saç Tipi: Düz, Kıvırcık, Dalgalı\n",
        "\n",
        "Sakal Uzunluğu: Uzun Sakal, Kirli Sakal, Sakalsız\n",
        "\n",
        "Boy Uzunluğu: Kullanıcı belirleyecek\n",
        "\n",
        "Kilo: Kullanıcı belirleyecek\n",
        "\n",
        "Vücut Tipi: Zayıf, Kaslı, Kilolu\n",
        "\n",
        "Ten Rengi: Buğday, Esmer, Beyaz, Siyah\n",
        "\n",
        "Göz Rengi: Mor, Ela, Yeşil, Kahverengi\n",
        "\n",
        "Sınıfı: Gangster, Keko, İş Adamı, Sporcu"
      ],
      "metadata": {
        "id": "GYxQEMKETVUj"
      }
    },
    {
      "cell_type": "code",
      "source": [
        "#4-B\n",
        "\n",
        "class sifre:\n",
        "    def __init__(self):\n",
        "        self.email = input(\"Lütfen hesap açmak için e-posta adresinizi girin: \")\n",
        "        self.sifre = input(\"Lütfen hesap açmak için şifrenizi girin: \")\n",
        "\n",
        "    def giris(self):\n",
        "        girilen_email = input(\"E-posta adresinizi oturum açmak için girin: \")\n",
        "        girilen_sifre = input(\"Şifrenizi oturum açmak için girin: \")\n",
        "\n",
        "        if girilen_email == self.email and girilen_sifre == self.sifre:\n",
        "            print(\"Giriş başarılı!\")\n",
        "        else:\n",
        "            print(\"E-posta adresi veya şifre yanlış.\")\n",
        "\n",
        "x1 = sifre()\n",
        "x1.giris()\n",
        "\n"
      ],
      "metadata": {
        "id": "DT1NC899DNq0"
      },
      "execution_count": null,
      "outputs": []
    },
    {
      "cell_type": "code",
      "source": [
        "#4-C\n",
        "def kullanici_ozellik_secimi():\n",
        "    sac_sakal_rengi = input(\"Saç ve Sakal Rengi Seçin (Kızıl, Siyah, Beyaz): \")\n",
        "    sac_tipi = input(\"Saç Tipi Seçin (Düz, Kıvırcık, Dalgalı): \")\n",
        "    sakal_uzunlugu = input(\"Sakal Uzunluğu Seçin (Uzun Sakal, Kirli Sakal, Sakalsız): \")\n",
        "    boy_uzunlugu = int(input(\"Boy Uzunluğu Belirtin (cm): \"))\n",
        "    kilo = int(input(\"Kilonuzu Belirtin (kg): \"))\n",
        "    vucut_tipi = input(\"Vücut Tipi Seçin (Zayıf, Kaslı, Kilolu): \")\n",
        "    ten_rengi = input(\"Ten Rengi Seçin (Buğday, Esmer, Beyaz, Siyah): \")\n",
        "    goz_rengi = input(\"Göz Rengi Seçin (Mor, Ela, Yeşil, Kahverengi): \")\n",
        "    sinif = input(\"Karakterin Sınıfını Belirtin (Gangster, Keko, İş Adamı, Sporcu): \")\n",
        "    return Karakter(sac_sakal_rengi, sac_tipi, sakal_uzunlugu, boy_uzunlugu, kilo, vucut_tipi, ten_rengi, goz_rengi, sinif)\n",
        "\n",
        "karakter1 = kullanici_ozellik_secimi()\n",
        "print(\"\\n\")\n",
        "karakter1.karakter_ozelliklerini_bastir()"
      ],
      "metadata": {
        "id": "yefA_5pqRapp"
      },
      "execution_count": null,
      "outputs": []
    }
  ]
}