{
  "nbformat": 4,
  "nbformat_minor": 0,
  "metadata": {
    "colab": {
      "provenance": [],
      "authorship_tag": "ABX9TyNcgGijtH0+LUg0XW/HGkrL",
      "include_colab_link": true
    },
    "kernelspec": {
      "name": "python3",
      "display_name": "Python 3"
    },
    "language_info": {
      "name": "python"
    }
  },
  "cells": [
    {
      "cell_type": "markdown",
      "metadata": {
        "id": "view-in-github",
        "colab_type": "text"
      },
      "source": [
        "<a href=\"https://colab.research.google.com/github/betuuulsan/python_odevleri/blob/main/GTA_Karakter_Ozellikleri.ipynb\" target=\"_parent\"><img src=\"https://colab.research.google.com/assets/colab-badge.svg\" alt=\"Open In Colab\"/></a>"
      ]
    },
    {
      "cell_type": "markdown",
      "source": [
        "Saç ve Sakal Rengi Seçenekleri: Kızıl, Siyah, Beyaz\n",
        "\n",
        "Saç Tipi: Düz, Kıvırcık, Dalgalı\n",
        "\n",
        "Sakal Uzunluğu: Uzun Sakal, Kirli Sakal, Sakalsız\n",
        "\n",
        "Boy Uzunluğu: Kullanıcı belirleyecek\n",
        "\n",
        "Kilo: Kullanıcı belirleyecek\n",
        "\n",
        "Vücut Tipi: Zayıf, Kaslı, Kilolu\n",
        "\n",
        "Ten Rengi: Buğday, Esmer, Beyaz, Siyah\n",
        "\n",
        "Göz Rengi: Mor, Ela, Yeşil, Kahverengi\n",
        "\n",
        "Sınıfı: Gangster, Keko, İş Adamı, Sporcu\n"
      ],
      "metadata": {
        "id": "KJFjbeJFxP_4"
      }
    }
  ]
}